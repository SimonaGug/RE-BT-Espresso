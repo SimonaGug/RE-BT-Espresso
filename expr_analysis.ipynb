{
 "cells": [
  {
   "cell_type": "code",
   "execution_count": 267,
   "metadata": {},
   "outputs": [],
   "source": [
    "import pandas as pd\n",
    "import seaborn as sns\n",
    "import glob, os\n",
    "import re\n",
    "import numpy as np\n",
    "import matplotlib.pyplot as plt\n",
    "%matplotlib inline"
   ]
  },
  {
   "cell_type": "markdown",
   "id": "6f83437c",
   "metadata": {},
   "source": [
    "# Notes about DF\n",
    "- `is_generated` : (bool) is the simulated tree, note when false, GED is just a single 0, not a dict\n",
    "- `is_original_bt_espresso` : (bool) run with kevin's algo\n",
    "- `num_unique_nodes` : (int) number of unique node types within the tree\n",
    "- `total_nodes` : (int) total number of nodes within the generated tree\n",
    "- `num_sub_trees` : (int) total number of sub trees within the generated tree\n",
    "- `unique_node_freq` : (dict<string, int>) dictionary of unique node to how many in the tree\n",
    "- `graph_edit_distance` : (Series[dict<string,Obj>]) series of scores for each sim tree\n",
    "- GED Example:\n",
    "```python\n",
    "\"graph_edit_distance\": [\n",
    "    {\n",
    "        \"sim_tree_num\": 0,\n",
    "        \"num_nodes_in_subtree\": 6,\n",
    "        \"num_uniq_nodes_in_subtree\": 4,\n",
    "        \"unique_node_dict\": {\n",
    "            \"Inverter\": 0,\n",
    "            \"Repeater\": 0,\n",
    "            \"LAT Sequence\": 0,\n",
    "            \"Sequence\": 1,\n",
    "            \"Parallel Selector\": 1,\n",
    "            \"Selector\": 0,\n",
    "            \"Parallel\": 0,\n",
    "            \"Action\": 3,\n",
    "            \"Condition\": 1\n",
    "        },\n",
    "        \"score\": 8.0\n",
    "    },\n",
    "    {\n",
    "        \"sim_tree_num\": 1,\n",
    "        \"num_nodes_in_subtree\": 3,\n",
    "        \"num_uniq_nodes_in_subtree\": 2,\n",
    "        \"unique_node_dict\": {\n",
    "            \"Inverter\": 0,\n",
    "            \"Repeater\": 0,\n",
    "            \"LAT Sequence\": 0,\n",
    "            \"Sequence\": 1,\n",
    "            \"Parallel Selector\": 0,\n",
    "            \"Selector\": 0,\n",
    "            \"Parallel\": 0,\n",
    "            \"Action\": 2,\n",
    "            \"Condition\": 0\n",
    "        },\n",
    "        \"score\": 1.0\n",
    "    },\n",
    "    {\n",
    "        \"sim_tree_num\": 2,\n",
    "        \"num_nodes_in_subtree\": 9,\n",
    "        \"num_uniq_nodes_in_subtree\": 5,\n",
    "        \"unique_node_dict\": {\n",
    "            \"Inverter\": 0,\n",
    "            \"Repeater\": 1,\n",
    "            \"LAT Sequence\": 0,\n",
    "            \"Sequence\": 0,\n",
    "            \"Parallel Selector\": 1,\n",
    "            \"Selector\": 1,\n",
    "            \"Parallel\": 0,\n",
    "            \"Action\": 3,\n",
    "            \"Condition\": 3\n",
    "        },\n",
    "        \"score\": 15.0\n",
    "    }\n",
    "]\n",
    "```"
   ]
  },
  {
   "cell_type": "code",
   "execution_count": 175,
   "id": "8da8ff43",
   "metadata": {},
   "outputs": [],
   "source": [
    "expr_num_key = \"expr_num\"\n",
    "unique_node_freq_key = \"unique_node_freq\"\n",
    "ged_key = \"graph_edit_distance\"\n",
    "is_gen_key = \"is_generated\"\n",
    "is_orig_key = \"is_original_bt_espresso\"\n",
    "score_key = \"score\"\n",
    "sim_tree_num_key = \"sim_tree_num\"\n",
    "score_diff_key = \"score_diff\"\n",
    "tot_nodes_key = \"total_nodes\""
   ]
  },
  {
   "cell_type": "code",
   "execution_count": 168,
   "metadata": {},
   "outputs": [
    {
     "name": "stderr",
     "output_type": "stream",
     "text": [
      "/var/folders/bq/77cqsbrj0nnfyn947ttr9bxm0000gn/T/ipykernel_35881/4029955584.py:18: SettingWithCopyWarning: \n",
      "A value is trying to be set on a copy of a slice from a DataFrame.\n",
      "Try using .loc[row_indexer,col_indexer] = value instead\n",
      "\n",
      "See the caveats in the documentation: https://pandas.pydata.org/pandas-docs/stable/user_guide/indexing.html#returning-a-view-versus-a-copy\n",
      "  p[expr_num_key] = expr_num\n"
     ]
    }
   ],
   "source": [
    "def getNumFromExprFilename(filename):\n",
    "    numeric_filter = filter(str.isdigit, filename)\n",
    "    return \"\".join(numeric_filter)\n",
    "\n",
    "def expandDictCol(col_name):\n",
    "    return pd.concat([df.drop([col_name], axis=1), df[col_name].apply(pd.Series)], axis=1)\n",
    "\n",
    "results_path = \"results/\"\n",
    "results = []\n",
    "gen_trees = []\n",
    "df = None\n",
    "p = None\n",
    "for filename in glob.glob(results_path + \"*.json\"):\n",
    "    expr_num = getNumFromExprFilename(filename)\n",
    "    df = pd.read_json(filename).T\n",
    "    df = expandDictCol(unique_node_freq_key)\n",
    "    p =  df[df[is_gen_key] == False]\n",
    "    p[expr_num_key] = expr_num\n",
    "    gen_trees.append(p)\n",
    "    df = df.drop(p.index)\n",
    "    df = df.explode(ged_key)\n",
    "    df = expandDictCol(ged_key)\n",
    "    df[expr_num_key] = expr_num\n",
    "    results.append(df)\n",
    "    \n",
    "f_df = pd.concat(results, axis=0, ignore_index=True)\n",
    "s_df = pd.concat(gen_trees, axis=0, ignore_index=True)"
   ]
  },
  {
   "cell_type": "code",
   "execution_count": 239,
   "id": "e0346feb",
   "metadata": {},
   "outputs": [],
   "source": [
    "valid_score = f_df[score_key] >= 0"
   ]
  },
  {
   "cell_type": "code",
   "execution_count": 288,
   "metadata": {},
   "outputs": [
    {
     "name": "stderr",
     "output_type": "stream",
     "text": [
      "/opt/homebrew/Caskroom/miniforge/base/lib/python3.9/site-packages/pandas/core/frame.py:3641: SettingWithCopyWarning: \n",
      "A value is trying to be set on a copy of a slice from a DataFrame.\n",
      "Try using .loc[row_indexer,col_indexer] = value instead\n",
      "\n",
      "See the caveats in the documentation: https://pandas.pydata.org/pandas-docs/stable/user_guide/indexing.html#returning-a-view-versus-a-copy\n",
      "  self[k1] = value[k2]\n"
     ]
    },
    {
     "data": {
      "image/png": "[encoded data removed]",
      "text/plain": [
       "<Figure size 432x288 with 1 Axes>"
      ]
     },
     "metadata": {
      "needs_background": "light"
     },
     "output_type": "display_data"
    },
    {
     "name": "stdout",
     "output_type": "stream",
     "text": [
      "177\n"
     ]
    },
    {
     "name": "stderr",
     "output_type": "stream",
     "text": [
      "/opt/homebrew/Caskroom/miniforge/base/lib/python3.9/site-packages/pandas/core/frame.py:3641: SettingWithCopyWarning: \n",
      "A value is trying to be set on a copy of a slice from a DataFrame.\n",
      "Try using .loc[row_indexer,col_indexer] = value instead\n",
      "\n",
      "See the caveats in the documentation: https://pandas.pydata.org/pandas-docs/stable/user_guide/indexing.html#returning-a-view-versus-a-copy\n",
      "  self[k1] = value[k2]\n"
     ]
    },
    {
     "data": {
      "image/png": "[encoded data removed]",
      "text/plain": [
       "<Figure size 432x288 with 1 Axes>"
      ]
     },
     "metadata": {
      "needs_background": "light"
     },
     "output_type": "display_data"
    },
    {
     "name": "stdout",
     "output_type": "stream",
     "text": [
      "170\n"
     ]
    }
   ],
   "source": [
    "def makehm(scored_df, is_discrete):\n",
    "    tmp_m = scored_df.unstack(level=1)\n",
    "    # True = kevin\n",
    "    # False = RE:BT-Espresso\n",
    "    min_r = tmp_m[True] - tmp_m[False]\n",
    "    min_r = min_r.reset_index()\n",
    "    min_r = min_r.rename(columns={0 : score_diff_key})\n",
    "    tnn_s_df = s_df[[\"total_nodes\", expr_num_key]]\n",
    "    minr = min_r.join(tnn_s_df.set_index(expr_num_key), on=expr_num_key)\n",
    "    fminr = minr[[tot_nodes_key, score_diff_key]]\n",
    "    fminr[[tot_nodes_key, score_diff_key]] = fminr[[tot_nodes_key, score_diff_key]].apply(pd.to_numeric)\n",
    "    # sns.histplot(fminr, x=tot_nodes_key, y=score_diff_key)\n",
    "    # plt.show()\n",
    "    cubeh = sns.cubehelix_palette(as_cmap=True)\n",
    "    sns.histplot(fminr, x=score_diff_key, discrete=is_discrete)\n",
    "    plt.show()\n",
    "    # tpltt = fminr.groupby([tot_nodes_key, score_diff_key]).size().unstack(fill_value=0)\n",
    "    \n",
    "    # ax = sns.heatmap(tpltt.T, cmap=cubeh, mask=(tpltt.T==0))\n",
    "    # ax.invert_yaxis()\n",
    "    # plt.show()\n",
    "    print(len(fminr[fminr[score_diff_key] == 0]))\n",
    "\n",
    "tmp_m = f_df[valid_score].groupby([expr_num_key, is_orig_key, sim_tree_num_key])[\"score\"]\n",
    "makehm(tmp_m.min(), True)\n",
    "# makehm(tmp_m.mean(), False)\n",
    "makehm(tmp_m.median(), True)"
   ]
  },
  {
   "cell_type": "code",
   "execution_count": null,
   "id": "a45af07b",
   "metadata": {},
   "outputs": [],
   "source": []
  }
 ],
 "metadata": {
  "interpreter": {
   "hash": "916dbcbb3f70747c44a77c7bcd40155683ae19c65e1c03b4aa3499c5328201f1"
  },
  "kernelspec": {
   "display_name": "Python 3.8.10 64-bit",
   "name": "python3"
  },
  "language_info": {
   "codemirror_mode": {
    "name": "ipython",
    "version": 3
   },
   "file_extension": ".py",
   "mimetype": "text/x-python",
   "name": "python",
   "nbconvert_exporter": "python",
   "pygments_lexer": "ipython3",
   "version": "3.9.7"
  }
 },
 "nbformat": 4,
 "nbformat_minor": 5
}
